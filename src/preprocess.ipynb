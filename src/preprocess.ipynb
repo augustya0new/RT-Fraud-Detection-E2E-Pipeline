{
 "cells": [
  {
   "cell_type": "code",
   "execution_count": null,
   "metadata": {},
   "outputs": [],
   "source": [
    "import pandas as pd\n",
    "from sklearn.preprocessing import StandardScaler\n",
    "from sklearn.model_selection import train_test_split\n",
    "from imblearn.over_sampling import SMOTE"
   ]
  },
  {
   "cell_type": "code",
   "execution_count": null,
   "metadata": {},
   "outputs": [],
   "source": [
    "def load_and_preprocess_data(filepath=\"../data/transactions.csv\"):\n",
    "    df = pd.read_csv(filepath)\n",
    "\n",
    "    # Encode categorical variables\n",
    "    df = pd.get_dummies(df, columns=[\"transaction_type\", \"device_type\"])\n",
    "\n",
    "    # Scale numerical features\n",
    "    scaler = StandardScaler()\n",
    "    df[[\"transaction_amount\", \"account_balance\"]] = scaler.fit_transform(df[[\"transaction_amount\", \"account_balance\"]])\n",
    "\n",
    "    # Handle class imbalance\n",
    "    X, y = df.drop(columns=[\"is_fraud\"]), df[\"is_fraud\"]\n",
    "    X_resampled, y_resampled = SMOTE().fit_resample(X, y)\n",
    "\n",
    "    return train_test_split(X_resampled, y_resampled, test_size=0.2, random_state=1)"
   ]
  }
 ],
 "metadata": {
  "language_info": {
   "name": "python"
  }
 },
 "nbformat": 4,
 "nbformat_minor": 2
}
