{
 "cells": [
  {
   "cell_type": "code",
   "execution_count": null,
   "metadata": {},
   "outputs": [],
   "source": [
    "import pandas as pd\n",
    "import seaborn as sns\n",
    "import matplotlib.pyplot as plt\n",
    "import requests\n",
    "\n",
    "# Load dataset\n",
    "# url = \"..url.download.csv\"\n",
    "# r = requests.get(url)\n",
    "df = pd.read_csv(\"../data/transactions.csv\")\n",
    "\n",
    "# View data structure\n",
    "print(df.head())\n",
    "\n",
    "# Fraud vs. Non-Fraud counts\n",
    "sns.countplot(x=\"is_fraud\", data=df)\n",
    "plt.title(\"Fraud vs. Non-Fraud Transactions\")\n",
    "plt.show()\n"
   ]
  }
 ],
 "metadata": {
  "language_info": {
   "name": "python"
  }
 },
 "nbformat": 4,
 "nbformat_minor": 2
}
